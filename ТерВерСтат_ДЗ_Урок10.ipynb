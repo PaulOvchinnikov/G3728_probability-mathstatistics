{
  "cells": [
    {
      "cell_type": "markdown",
      "metadata": {
        "jp-MarkdownHeadingCollapsed": true,
        "tags": []
      },
      "source": [
        "## Домашнее задание 10 ##\n",
        "### Это задание выполнено Павлом Овчинниковым при обучении на курсе \"Теория вероятностей и математическая статистика\" ###\n",
        "### Преподаватель Дамир Тлеубаев ###"
      ]
    },
    {
      "cell_type": "markdown",
      "metadata": {},
      "source": [
        "### Задание 1)\n",
        "Провести дисперсионный анализ для определения того, есть ли различия среднего роста среди взрослых футболистов, хоккеистов и штангистов. Даны значения роста в трех группах случайно выбранных спортсменов: Футболисты: 173, 175, 180, 178, 177, 185, 183, 182. Хоккеисты: 177, 179, 180, 188, 177, 172, 171, 184, 180. Штангисты: 172, 173, 169, 177, 166, 180, 178, 177, 172, 166, 170. \n",
        "### Решение: \n",
        "Так как на 1 количественный показатель - рост спортсмена, влияет 1 качественный критерий (фактор) - вид спорта, то применим однофакторной дисперсионной анализ. Проверяем на условия применимости дисперсионного анализа:\n",
        "- соблюдается независимость измерений, так как это разные виды спорта\n",
        "- соблюдается нормальность распределения (проверим тестом Шапиро-Уилка)\n",
        "- выборки имеют разный размер, поэтому неоднородность может иметь сильное влияние на результат. Дисперсия выборок $ s^2 = Σ (x_i – x )^2 / (n-1) $"
      ]
    },
    {
      "cell_type": "code",
      "execution_count": 11,
      "metadata": {
        "tags": [],
        "trusted": true
      },
      "outputs": [
        {
          "name": "stdout",
          "output_type": "stream",
          "text": [
            "Данные [173 175 180 178 177 185 183 182] нормального распределения.\n",
            "Данные [177 179 180 188 177 172 171 184 180] нормального распределения.\n",
            "Данные [172 173 169 177 166 180 178 177 172 166 170] нормального распределения.\n",
            "BartlettResult(statistic=0.4640521043406442, pvalue=0.7929254656083131)\n",
            "Дисперсия выборок \"Футболисты\", \"Хоккеисты\", \"Штангисты\" соответственно 14.859375, 25.33333333333333, 20.925619834710744\n"
          ]
        }
      ],
      "source": [
        "import pandas as pd\n",
        "import numpy as np\n",
        "import scipy.stats as stats\n",
        "from scipy import stats\n",
        "from scipy.stats import shapiro\n",
        "from scipy.stats import bartlett\n",
        "import matplotlib.pyplot as plt\n",
        "\n",
        "ftb=np.array([173, 175, 180, 178, 177, 185, 183, 182]) # footballer\n",
        "hk=np.array([177, 179, 180, 188, 177, 172, 171, 184, 180]) # hockey \n",
        "wl=np.array([172, 173, 169, 177, 166, 180, 178, 177, 172, 166, 170]) # Weightlifter \n",
        "sportsmens=np.array(['Футболисты', 'Хоккеисты', 'Штангисты']) #  \n",
        "\n",
        "# # средние значения\n",
        "# ftb_avg = np.mean(ftb)  \n",
        "# hk_avg = np.mean(hk)\n",
        "# wl_avg = np.mean(wl)\n",
        "\n",
        "# тест Шапиро-Уилка\n",
        "def test_shapiro(data):\n",
        "    stat, p_value = shapiro(data)\n",
        "    # print (f'p_value = {p_value}')\n",
        "    alpha = 0.05\n",
        "    if p_value < alpha:\n",
        "        print('Данные {data} НЕ имеют нормального распределения.')\n",
        "    else:\n",
        "        print(f'Данные {data} нормального распределения.')\n",
        "\n",
        "test_shapiro(ftb)\n",
        "test_shapiro(hk)\n",
        "test_shapiro(wl)\n",
        "\n",
        "print (stats.bartlett(ftb, hk, wl))\n",
        "\n",
        "print(f'Дисперсия выборок \"Футболисты\", \"Хоккеисты\", \"Штангисты\" соответственно {np.var(ftb)}, {np.var(hk)}, {np.var(wl)}')"
      ]
    },
    {
      "cell_type": "markdown",
      "metadata": {},
      "source": [
        "По условию сравниваем 3 группы, значит возможно применение критерия Фишера\n",
        "$$ F_н = \\frac {\\sigma_{факт}^2}{\\sigma_{ост}^2} $$\n",
        ", где $\\sigma_{факт}^2 = \\frac {S_ф^2}{(k-1)}$  и $\\sigma_{ост}^2 = \\frac {S_{ост}^2}{(n-k)} $\n",
        "$$ s_ф^2 = \\sum_{i=1}^k (\\overline {y_i} - \\overline {Y})^2*n_i $$\n",
        "\n",
        "Применим метод однофакторного дисперсионного анализа из библиотеки scipy:\n",
        "\n"
      ]
    },
    {
      "cell_type": "code",
      "execution_count": 12,
      "metadata": {},
      "outputs": [
        {
          "name": "stdout",
          "output_type": "stream",
          "text": [
            "3 28 2 25\n"
          ]
        },
        {
          "data": {
            "text/plain": [
              "F_onewayResult(statistic=5.500053450812596, pvalue=0.010482206918698693)"
            ]
          },
          "execution_count": 12,
          "metadata": {},
          "output_type": "execute_result"
        }
      ],
      "source": [
        "k=3 # количество сравниваемых выборок\n",
        "k1 = 2 # степень свободы 3-1\n",
        "n=len(ftb)+len(hk)+len(wl) # общее кол-во измерений во всех выборках\n",
        "k2 = n-k\n",
        "print(k, n, k1, k2)\n",
        "Fk = 3.38\n",
        "\n",
        "stats.f_oneway(ftb, hk, wl)"
      ]
    },
    {
      "cell_type": "markdown",
      "metadata": {},
      "source": [
        "Таким образом нашли, Fн = 5.5, табличное Fk = 3.38 при уровне значимости  alpha = 5% и p_value = 0.01. Fн > Fk, и мы нашли статистически значимые отличия.\n",
        "\n",
        "Проведем дополнительно Post hoc test Tukey"
      ]
    },
    {
      "cell_type": "code",
      "execution_count": 13,
      "metadata": {},
      "outputs": [
        {
          "ename": "ValueError",
          "evalue": "All arrays must be of the same length",
          "output_type": "error",
          "traceback": [
            "\u001b[1;31m---------------------------------------------------------------------------\u001b[0m",
            "\u001b[1;31mValueError\u001b[0m                                Traceback (most recent call last)",
            "Cell \u001b[1;32mIn[13], line 3\u001b[0m\n\u001b[0;32m      1\u001b[0m \u001b[39mfrom\u001b[39;00m \u001b[39mstatsmodels\u001b[39;00m\u001b[39m.\u001b[39;00m\u001b[39mstats\u001b[39;00m\u001b[39m.\u001b[39;00m\u001b[39mmulticomp\u001b[39;00m \u001b[39mimport\u001b[39;00m pairwise_tukeyhsd\n\u001b[1;32m----> 3\u001b[0m df\u001b[39m=\u001b[39mpd\u001b[39m.\u001b[39;49mDataFrame({\u001b[39m\"\u001b[39;49m\u001b[39mscore\u001b[39;49m\u001b[39m\"\u001b[39;49m: [ \u001b[39m173\u001b[39;49m, \u001b[39m175\u001b[39;49m, \u001b[39m180\u001b[39;49m, \u001b[39m178\u001b[39;49m, \u001b[39m177\u001b[39;49m, \u001b[39m185\u001b[39;49m, \u001b[39m183\u001b[39;49m, \u001b[39m182\u001b[39;49m,\n\u001b[0;32m      4\u001b[0m                           \u001b[39m177\u001b[39;49m, \u001b[39m179\u001b[39;49m, \u001b[39m180\u001b[39;49m, \u001b[39m188\u001b[39;49m, \u001b[39m177\u001b[39;49m, \u001b[39m172\u001b[39;49m, \u001b[39m171\u001b[39;49m, \u001b[39m184\u001b[39;49m, \u001b[39m180\u001b[39;49m,\n\u001b[0;32m      5\u001b[0m                           \u001b[39m172\u001b[39;49m, \u001b[39m173\u001b[39;49m, \u001b[39m169\u001b[39;49m, \u001b[39m177\u001b[39;49m, \u001b[39m166\u001b[39;49m, \u001b[39m180\u001b[39;49m, \u001b[39m178\u001b[39;49m, \u001b[39m177\u001b[39;49m, \u001b[39m172\u001b[39;49m, \u001b[39m166\u001b[39;49m, \u001b[39m170\u001b[39;49m],\n\u001b[0;32m      6\u001b[0m  \u001b[39m\"\u001b[39;49m\u001b[39mgroup\u001b[39;49m\u001b[39m\"\u001b[39;49m:np\u001b[39m.\u001b[39;49mrepeat([\u001b[39m\"\u001b[39;49m\u001b[39mФутболисты\u001b[39;49m\u001b[39m\"\u001b[39;49m,\u001b[39m\"\u001b[39;49m\u001b[39mХоккеисты\u001b[39;49m\u001b[39m\"\u001b[39;49m,\u001b[39m\"\u001b[39;49m\u001b[39mШтангисты\u001b[39;49m\u001b[39m\"\u001b[39;49m], repeats \u001b[39m=\u001b[39;49m\u001b[39m11\u001b[39;49m)})\n\u001b[0;32m      8\u001b[0m tukey\u001b[39m=\u001b[39mpairwise_tukeyhsd(df[\u001b[39m\"\u001b[39m\u001b[39mscore\u001b[39m\u001b[39m\"\u001b[39m],  df[\u001b[39m\"\u001b[39m\u001b[39mgroup\u001b[39m\u001b[39m\"\u001b[39m],  alpha \u001b[39m=\u001b[39m\u001b[39m0.05\u001b[39m)\n\u001b[0;32m      9\u001b[0m \u001b[39mprint\u001b[39m(tukey)\n",
            "File \u001b[1;32mc:\\Users\\paovc\\AppData\\Local\\Programs\\Python\\Python311\\Lib\\site-packages\\pandas\\core\\frame.py:709\u001b[0m, in \u001b[0;36mDataFrame.__init__\u001b[1;34m(self, data, index, columns, dtype, copy)\u001b[0m\n\u001b[0;32m    703\u001b[0m     mgr \u001b[39m=\u001b[39m \u001b[39mself\u001b[39m\u001b[39m.\u001b[39m_init_mgr(\n\u001b[0;32m    704\u001b[0m         data, axes\u001b[39m=\u001b[39m{\u001b[39m\"\u001b[39m\u001b[39mindex\u001b[39m\u001b[39m\"\u001b[39m: index, \u001b[39m\"\u001b[39m\u001b[39mcolumns\u001b[39m\u001b[39m\"\u001b[39m: columns}, dtype\u001b[39m=\u001b[39mdtype, copy\u001b[39m=\u001b[39mcopy\n\u001b[0;32m    705\u001b[0m     )\n\u001b[0;32m    707\u001b[0m \u001b[39melif\u001b[39;00m \u001b[39misinstance\u001b[39m(data, \u001b[39mdict\u001b[39m):\n\u001b[0;32m    708\u001b[0m     \u001b[39m# GH#38939 de facto copy defaults to False only in non-dict cases\u001b[39;00m\n\u001b[1;32m--> 709\u001b[0m     mgr \u001b[39m=\u001b[39m dict_to_mgr(data, index, columns, dtype\u001b[39m=\u001b[39;49mdtype, copy\u001b[39m=\u001b[39;49mcopy, typ\u001b[39m=\u001b[39;49mmanager)\n\u001b[0;32m    710\u001b[0m \u001b[39melif\u001b[39;00m \u001b[39misinstance\u001b[39m(data, ma\u001b[39m.\u001b[39mMaskedArray):\n\u001b[0;32m    711\u001b[0m     \u001b[39mfrom\u001b[39;00m \u001b[39mnumpy\u001b[39;00m\u001b[39m.\u001b[39;00m\u001b[39mma\u001b[39;00m \u001b[39mimport\u001b[39;00m mrecords\n",
            "File \u001b[1;32mc:\\Users\\paovc\\AppData\\Local\\Programs\\Python\\Python311\\Lib\\site-packages\\pandas\\core\\internals\\construction.py:481\u001b[0m, in \u001b[0;36mdict_to_mgr\u001b[1;34m(data, index, columns, dtype, typ, copy)\u001b[0m\n\u001b[0;32m    477\u001b[0m     \u001b[39melse\u001b[39;00m:\n\u001b[0;32m    478\u001b[0m         \u001b[39m# dtype check to exclude e.g. range objects, scalars\u001b[39;00m\n\u001b[0;32m    479\u001b[0m         arrays \u001b[39m=\u001b[39m [x\u001b[39m.\u001b[39mcopy() \u001b[39mif\u001b[39;00m \u001b[39mhasattr\u001b[39m(x, \u001b[39m\"\u001b[39m\u001b[39mdtype\u001b[39m\u001b[39m\"\u001b[39m) \u001b[39melse\u001b[39;00m x \u001b[39mfor\u001b[39;00m x \u001b[39min\u001b[39;00m arrays]\n\u001b[1;32m--> 481\u001b[0m \u001b[39mreturn\u001b[39;00m arrays_to_mgr(arrays, columns, index, dtype\u001b[39m=\u001b[39;49mdtype, typ\u001b[39m=\u001b[39;49mtyp, consolidate\u001b[39m=\u001b[39;49mcopy)\n",
            "File \u001b[1;32mc:\\Users\\paovc\\AppData\\Local\\Programs\\Python\\Python311\\Lib\\site-packages\\pandas\\core\\internals\\construction.py:115\u001b[0m, in \u001b[0;36marrays_to_mgr\u001b[1;34m(arrays, columns, index, dtype, verify_integrity, typ, consolidate)\u001b[0m\n\u001b[0;32m    112\u001b[0m \u001b[39mif\u001b[39;00m verify_integrity:\n\u001b[0;32m    113\u001b[0m     \u001b[39m# figure out the index, if necessary\u001b[39;00m\n\u001b[0;32m    114\u001b[0m     \u001b[39mif\u001b[39;00m index \u001b[39mis\u001b[39;00m \u001b[39mNone\u001b[39;00m:\n\u001b[1;32m--> 115\u001b[0m         index \u001b[39m=\u001b[39m _extract_index(arrays)\n\u001b[0;32m    116\u001b[0m     \u001b[39melse\u001b[39;00m:\n\u001b[0;32m    117\u001b[0m         index \u001b[39m=\u001b[39m ensure_index(index)\n",
            "File \u001b[1;32mc:\\Users\\paovc\\AppData\\Local\\Programs\\Python\\Python311\\Lib\\site-packages\\pandas\\core\\internals\\construction.py:655\u001b[0m, in \u001b[0;36m_extract_index\u001b[1;34m(data)\u001b[0m\n\u001b[0;32m    653\u001b[0m lengths \u001b[39m=\u001b[39m \u001b[39mlist\u001b[39m(\u001b[39mset\u001b[39m(raw_lengths))\n\u001b[0;32m    654\u001b[0m \u001b[39mif\u001b[39;00m \u001b[39mlen\u001b[39m(lengths) \u001b[39m>\u001b[39m \u001b[39m1\u001b[39m:\n\u001b[1;32m--> 655\u001b[0m     \u001b[39mraise\u001b[39;00m \u001b[39mValueError\u001b[39;00m(\u001b[39m\"\u001b[39m\u001b[39mAll arrays must be of the same length\u001b[39m\u001b[39m\"\u001b[39m)\n\u001b[0;32m    657\u001b[0m \u001b[39mif\u001b[39;00m have_dicts:\n\u001b[0;32m    658\u001b[0m     \u001b[39mraise\u001b[39;00m \u001b[39mValueError\u001b[39;00m(\n\u001b[0;32m    659\u001b[0m         \u001b[39m\"\u001b[39m\u001b[39mMixing dicts with non-Series may lead to ambiguous ordering.\u001b[39m\u001b[39m\"\u001b[39m\n\u001b[0;32m    660\u001b[0m     )\n",
            "\u001b[1;31mValueError\u001b[0m: All arrays must be of the same length"
          ]
        }
      ],
      "source": [
        "from statsmodels.stats.multicomp import pairwise_tukeyhsd\n",
        "\n",
        "df=pd.DataFrame({\"score\": [ 173, 175, 180, 178, 177, 185, 183, 182,\n",
        "                          177, 179, 180, 188, 177, 172, 171, 184, 180,\n",
        "                          172, 173, 169, 177, 166, 180, 178, 177, 172, 166, 170],\n",
        " \"group\":np.repeat([\"Футболисты\",\"Хоккеисты\",\"Штангисты\"], repeats =11)})\n",
        "\n",
        "tukey=pairwise_tukeyhsd(df[\"score\"],  df[\"group\"],  alpha =0.05)\n",
        "print(tukey)\n",
        "# plot(tukey.test)"
      ]
    },
    {
      "cell_type": "code",
      "execution_count": null,
      "metadata": {},
      "outputs": [],
      "source": [
        "# plt.scatter(sportsmens,ftb)\n",
        "# plt.scatter(2,hk)\n",
        "# plt.scatter(3,wl)\n",
        "# plt.plot(zp, )\n",
        "# plt.legend()\n",
        "# plt.xlabel('Вид спорта:' {Футбол}, {Хоккей}, {Штанга}, (Средние значения), )\n",
        "# plt.ylabel('Рост спортсмена', rotation=90)\n",
        "# plt.show()\n",
        "\n",
        "# print(f'Среднее значение роста в выборке равно {variance(ftb)}') \n",
        "# print(f'Среднее значение роста в выборке равно {variance(hk)\n",
        "# }') \n",
        "# print(f'Среднее значение роста в выборке равно {variance(wl)\n",
        "# }') "
      ]
    }
  ],
  "metadata": {
    "kernelspec": {
      "display_name": "Python 3",
      "language": "python",
      "name": "python3"
    },
    "language_info": {
      "codemirror_mode": {
        "name": "ipython",
        "version": 3
      },
      "file_extension": ".py",
      "mimetype": "text/x-python",
      "name": "python",
      "nbconvert_exporter": "python",
      "pygments_lexer": "ipython3",
      "version": "3.11.2"
    }
  },
  "nbformat": 4,
  "nbformat_minor": 4
}
