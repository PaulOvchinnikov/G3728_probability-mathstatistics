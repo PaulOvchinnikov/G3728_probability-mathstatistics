{
  "metadata": {
    "language_info": {
      "codemirror_mode": {
        "name": "python",
        "version": 3
      },
      "file_extension": ".py",
      "mimetype": "text/x-python",
      "name": "python",
      "nbconvert_exporter": "python",
      "pygments_lexer": "ipython3",
      "version": "3.8"
    },
    "kernelspec": {
      "name": "python",
      "display_name": "Python (Pyodide)",
      "language": "python"
    }
  },
  "nbformat_minor": 4,
  "nbformat": 4,
  "cells": [
    {
      "cell_type": "markdown",
      "source": "## Домашнее задание 8 ##\n### Это задание выполнено Павлом Овчинниковым при обучении на курсе \"Теория вероятностей и математическая статистика\" ###\n### Преподаватель Дамир Тлеубаев ###",
      "metadata": {
        "jp-MarkdownHeadingCollapsed": true,
        "tags": []
      }
    },
    {
      "cell_type": "markdown",
      "source": "## Задание 1)  \n### Даны значения величины заработной платы заемщиков банка (zp) и значения их поведенческого кредитного скоринга (ks): zp = [35, 45, 190, 200, 40, 70, 54, 150, 120, 110], ks = [401, 574, 874, 919, 459, 739, 653, 902, 746, 832]. Найдите ковариацию этих двух величин с помощью элементарных действий, а затем с помощью функции cov из numpy Полученные значения должны быть равны. Найдите коэффициент корреляции Пирсона с помощью ковариации и среднеквадратичных отклонений двух признаков, а затем с использованием функций из библиотек numpy и pandas.\n## Решение: \n###  Ковариация двух величин рассчитывается по формуле $$ cov (X,Y) = \\frac {1}{n} \\sum_{t=1}^n (X_t-\\overline{X})(Y_t-\\overline{Y}) = \\frac {1}{n} \\sum_{t=1}^n {X_t Y_t} - \\overline{X} \\overline{Y} $$",
      "metadata": {}
    },
    {
      "cell_type": "code",
      "source": "import pandas as pd\nimport numpy as np\n\nzp=np.array([35, 45, 190, 200, 40, 70, 54, 150, 120, 110])\nks=np.array([401, 574, 874, 919, 459, 739, 653, 902, 746, 832])\n\nzp_avg = np.mean(zp)\nks_avg = np.mean(ks)\n\nnew_array = []\nnew_array = [(zp[i]-zp_avg)*(ks[i]-ks_avg) for i in range(len(zp))]\ncov_answer = sum(new_array)/len(zp)\n\nprint(f'ковариации рассчитанная - {cov_answer}') \nprint(f'ковариации по функции из numpy - {np.cov(zp, ks, bias=True)[0][1]}')",
      "metadata": {
        "tags": [],
        "trusted": true
      },
      "execution_count": 33,
      "outputs": [
        {
          "name": "stdout",
          "text": "ковариации рассчитанная - 9157.84\nковариации по функции из numpy - 9157.84\n",
          "output_type": "stream"
        }
      ]
    },
    {
      "cell_type": "markdown",
      "source": "### коэффициент корреляции Пирсона (r) с помощью ковариации и среднеквадратичных отклонений двух признаков",
      "metadata": {}
    },
    {
      "cell_type": "code",
      "source": "# print(cov_answer / (np.std(zp)*np.std(ks)}')\nprint(f'Рассчитанный Коэффициент корреляции Пирсона r =  { cov_answer / (np.std(zp)*np.std(ks))} ')\nprint(f'Коэффициент корреляции Пирсона по функции из numpy  r =  { np.corrcoef(zp,ks)[0][1]} ')",
      "metadata": {
        "trusted": true
      },
      "execution_count": 34,
      "outputs": [
        {
          "name": "stdout",
          "text": "Рассчитанный Коэффициент корреляции Пирсона r =  0.8874900920739162 \nКоэффициент корреляции Пирсона по функции из numpy  r =  0.8874900920739159 \n",
          "output_type": "stream"
        }
      ]
    },
    {
      "cell_type": "markdown",
      "source": "______________________________________________________________________________\n## Задание 2) \n###  Измерены значения IQ выборки студентов, обучающихся в местных технических вузах: 131, 125, 115, 122, 131, 115, 107, 99, 125, 111. Известно, что в генеральной совокупности IQ распределен нормально. Найдите доверительный интервал для математического ожидания с надежностью 0.95.\n### Решение: Доверительный интервал находится в диапазоне $$ x ± t_y*(\\frac{σ}{\\sqrt(n)}) $$\n### * X : выборочное среднее\n### * ty: табличное значение, соответствующее доверительному уровню\n### * σ (sigma): стандартное отклонение выборки\n### * n: размер выборки\n### Коэффициент доверия ty равен надежность α пополам (0.95/2=0.475). По таблице значений функций Лапласа для Ф(t)=0.475 ty=1.96 ",
      "metadata": {}
    },
    {
      "cell_type": "code",
      "source": "import numpy as np, scipy.stats as st\n\nIQ_sampling = np.array([131, 125, 115, 122, 131, 115, 107, 99, 125, 111])\nα = 0.95\nt = 1.96\nX_avg = np.mean(IQ_sampling)\nσ = np.std(IQ_sampling)\n\nx1 = X_avg - t*(σ/((len(IQ_sampling)-1)**0.5))\nx2 = X_avg + t*(σ/((len(IQ_sampling)-1)**0.5))\n\nprint(f'Доверительный интервал {x1}, {x2}')\n\nst.norm.interval(α, loc=np.mean(IQ_sampling), scale=st.sem(IQ_sampling))",
      "metadata": {
        "trusted": true
      },
      "execution_count": 47,
      "outputs": [
        {
          "name": "stdout",
          "text": "Доверительный интервал 111.56372732786916, 124.63627267213083\n",
          "output_type": "stream"
        },
        {
          "execution_count": 47,
          "output_type": "execute_result",
          "data": {
            "text/plain": "(111.56384743341334, 124.63615256658665)"
          },
          "metadata": {}
        }
      ]
    },
    {
      "cell_type": "markdown",
      "source": "_________________________________________________________________________\n## Задание 3) \n### Известно, что рост футболистов в сборной распределен нормально с дисперсией генеральной совокупности, равной 25 кв.см. Объем выборки равен 27, среднее выборочное составляет 174.2. Найдите доверительный интервал для математического ожидания с надежностью 0.95.\n### Решение: Как и в предыдущей Задача 2) доверительный интервал находится в диапазоне $$ x ± t_y*(\\frac{σ}{\\sqrt(n-1)}) $$\n### Дисперсия D = 25 => среднее квадратическое отклонение = 5. Объем выборки n=27. Коэффициент доверия ty равен надежность α пополам (0.95/2=0.475). По таблице значений функций Лапласа для Ф(t)=0.475 ty=1.96 ",
      "metadata": {}
    },
    {
      "cell_type": "code",
      "source": "import numpy as np, scipy.stats as st\n\nD = 25\nx = 174.2\nn = 27\na = 0.95\nt = 1.96\nσ = D**0.5\n\nx1 = x - t*(σ/((n-1)**0.5))\nx2 = x + t*(σ/((n-1)**0.5))\n\nprint(f'Доверительный интервал {x1}, {x2}')\n\nst.norm.interval(α, loc=x, scale=(σ/(n-1)**0.5))",
      "metadata": {
        "trusted": true
      },
      "execution_count": 46,
      "outputs": [
        {
          "name": "stdout",
          "text": "Доверительный интервал 172.2780618756458, 176.1219381243542\n",
          "output_type": "stream"
        },
        {
          "execution_count": 46,
          "output_type": "execute_result",
          "data": {
            "text/plain": "(172.27809719170983, 176.12190280829014)"
          },
          "metadata": {}
        }
      ]
    }
  ]
}